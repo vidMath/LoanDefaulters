{
 "cells": [
  {
   "cell_type": "code",
   "execution_count": 29,
   "metadata": {
    "collapsed": false
   },
   "outputs": [],
   "source": [
    "import numpy as np\n",
    "import pandas as pd\n",
    "import matplotlib as plt"
   ]
  },
  {
   "cell_type": "code",
   "execution_count": 30,
   "metadata": {
    "collapsed": false
   },
   "outputs": [],
   "source": [
    "df = pd.read_csv('train_indessa.csv')"
   ]
  },
  {
   "cell_type": "code",
   "execution_count": 31,
   "metadata": {
    "collapsed": false
   },
   "outputs": [
    {
     "data": {
      "text/html": [
       "<div>\n",
       "<table border=\"1\" class=\"dataframe\">\n",
       "  <thead>\n",
       "    <tr style=\"text-align: right;\">\n",
       "      <th></th>\n",
       "      <th>member_id</th>\n",
       "      <th>loan_amnt</th>\n",
       "      <th>funded_amnt</th>\n",
       "      <th>funded_amnt_inv</th>\n",
       "      <th>int_rate</th>\n",
       "      <th>annual_inc</th>\n",
       "      <th>dti</th>\n",
       "      <th>delinq_2yrs</th>\n",
       "      <th>inq_last_6mths</th>\n",
       "      <th>mths_since_last_delinq</th>\n",
       "      <th>...</th>\n",
       "      <th>total_rec_late_fee</th>\n",
       "      <th>recoveries</th>\n",
       "      <th>collection_recovery_fee</th>\n",
       "      <th>collections_12_mths_ex_med</th>\n",
       "      <th>mths_since_last_major_derog</th>\n",
       "      <th>acc_now_delinq</th>\n",
       "      <th>tot_coll_amt</th>\n",
       "      <th>tot_cur_bal</th>\n",
       "      <th>total_rev_hi_lim</th>\n",
       "      <th>loan_status</th>\n",
       "    </tr>\n",
       "  </thead>\n",
       "  <tbody>\n",
       "    <tr>\n",
       "      <th>count</th>\n",
       "      <td>5.324280e+05</td>\n",
       "      <td>532428.000000</td>\n",
       "      <td>532428.000000</td>\n",
       "      <td>532428.000000</td>\n",
       "      <td>532428.000000</td>\n",
       "      <td>5.324250e+05</td>\n",
       "      <td>532428.000000</td>\n",
       "      <td>532412.000000</td>\n",
       "      <td>532412.000000</td>\n",
       "      <td>259874.000000</td>\n",
       "      <td>...</td>\n",
       "      <td>532428.000000</td>\n",
       "      <td>532428.000000</td>\n",
       "      <td>532428.000000</td>\n",
       "      <td>532333.000000</td>\n",
       "      <td>132980.000000</td>\n",
       "      <td>532412.000000</td>\n",
       "      <td>490424.000000</td>\n",
       "      <td>4.904240e+05</td>\n",
       "      <td>4.904240e+05</td>\n",
       "      <td>532428.000000</td>\n",
       "    </tr>\n",
       "    <tr>\n",
       "      <th>mean</th>\n",
       "      <td>3.500547e+07</td>\n",
       "      <td>14757.595722</td>\n",
       "      <td>14744.271291</td>\n",
       "      <td>14704.926696</td>\n",
       "      <td>13.242969</td>\n",
       "      <td>7.502984e+04</td>\n",
       "      <td>18.138767</td>\n",
       "      <td>0.314448</td>\n",
       "      <td>0.694603</td>\n",
       "      <td>34.055735</td>\n",
       "      <td>...</td>\n",
       "      <td>0.394954</td>\n",
       "      <td>45.717832</td>\n",
       "      <td>4.859221</td>\n",
       "      <td>0.014299</td>\n",
       "      <td>44.121462</td>\n",
       "      <td>0.005015</td>\n",
       "      <td>213.562222</td>\n",
       "      <td>1.395541e+05</td>\n",
       "      <td>3.208057e+04</td>\n",
       "      <td>0.236327</td>\n",
       "    </tr>\n",
       "    <tr>\n",
       "      <th>std</th>\n",
       "      <td>2.412148e+07</td>\n",
       "      <td>8434.420080</td>\n",
       "      <td>8429.139277</td>\n",
       "      <td>8441.290381</td>\n",
       "      <td>4.379611</td>\n",
       "      <td>6.519985e+04</td>\n",
       "      <td>8.369074</td>\n",
       "      <td>0.860045</td>\n",
       "      <td>0.997025</td>\n",
       "      <td>21.884797</td>\n",
       "      <td>...</td>\n",
       "      <td>4.091546</td>\n",
       "      <td>409.647467</td>\n",
       "      <td>63.123361</td>\n",
       "      <td>0.133005</td>\n",
       "      <td>22.198410</td>\n",
       "      <td>0.079117</td>\n",
       "      <td>1958.571538</td>\n",
       "      <td>1.539149e+05</td>\n",
       "      <td>3.805304e+04</td>\n",
       "      <td>0.424826</td>\n",
       "    </tr>\n",
       "    <tr>\n",
       "      <th>min</th>\n",
       "      <td>7.047300e+04</td>\n",
       "      <td>500.000000</td>\n",
       "      <td>500.000000</td>\n",
       "      <td>0.000000</td>\n",
       "      <td>5.320000</td>\n",
       "      <td>1.200000e+03</td>\n",
       "      <td>0.000000</td>\n",
       "      <td>0.000000</td>\n",
       "      <td>0.000000</td>\n",
       "      <td>0.000000</td>\n",
       "      <td>...</td>\n",
       "      <td>0.000000</td>\n",
       "      <td>0.000000</td>\n",
       "      <td>0.000000</td>\n",
       "      <td>0.000000</td>\n",
       "      <td>0.000000</td>\n",
       "      <td>0.000000</td>\n",
       "      <td>0.000000</td>\n",
       "      <td>0.000000e+00</td>\n",
       "      <td>0.000000e+00</td>\n",
       "      <td>0.000000</td>\n",
       "    </tr>\n",
       "    <tr>\n",
       "      <th>25%</th>\n",
       "      <td>1.086688e+07</td>\n",
       "      <td>8000.000000</td>\n",
       "      <td>8000.000000</td>\n",
       "      <td>8000.000000</td>\n",
       "      <td>9.990000</td>\n",
       "      <td>4.500000e+04</td>\n",
       "      <td>11.930000</td>\n",
       "      <td>0.000000</td>\n",
       "      <td>0.000000</td>\n",
       "      <td>15.000000</td>\n",
       "      <td>...</td>\n",
       "      <td>0.000000</td>\n",
       "      <td>0.000000</td>\n",
       "      <td>0.000000</td>\n",
       "      <td>0.000000</td>\n",
       "      <td>27.000000</td>\n",
       "      <td>0.000000</td>\n",
       "      <td>0.000000</td>\n",
       "      <td>2.983975e+04</td>\n",
       "      <td>1.400000e+04</td>\n",
       "      <td>0.000000</td>\n",
       "    </tr>\n",
       "    <tr>\n",
       "      <th>50%</th>\n",
       "      <td>3.709590e+07</td>\n",
       "      <td>13000.000000</td>\n",
       "      <td>13000.000000</td>\n",
       "      <td>13000.000000</td>\n",
       "      <td>12.990000</td>\n",
       "      <td>6.500000e+04</td>\n",
       "      <td>17.650000</td>\n",
       "      <td>0.000000</td>\n",
       "      <td>0.000000</td>\n",
       "      <td>31.000000</td>\n",
       "      <td>...</td>\n",
       "      <td>0.000000</td>\n",
       "      <td>0.000000</td>\n",
       "      <td>0.000000</td>\n",
       "      <td>0.000000</td>\n",
       "      <td>44.000000</td>\n",
       "      <td>0.000000</td>\n",
       "      <td>0.000000</td>\n",
       "      <td>8.066950e+04</td>\n",
       "      <td>2.370000e+04</td>\n",
       "      <td>0.000000</td>\n",
       "    </tr>\n",
       "    <tr>\n",
       "      <th>75%</th>\n",
       "      <td>5.848920e+07</td>\n",
       "      <td>20000.000000</td>\n",
       "      <td>20000.000000</td>\n",
       "      <td>20000.000000</td>\n",
       "      <td>16.200000</td>\n",
       "      <td>9.000000e+04</td>\n",
       "      <td>23.950000</td>\n",
       "      <td>0.000000</td>\n",
       "      <td>1.000000</td>\n",
       "      <td>50.000000</td>\n",
       "      <td>...</td>\n",
       "      <td>0.000000</td>\n",
       "      <td>0.000000</td>\n",
       "      <td>0.000000</td>\n",
       "      <td>0.000000</td>\n",
       "      <td>61.000000</td>\n",
       "      <td>0.000000</td>\n",
       "      <td>0.000000</td>\n",
       "      <td>2.084792e+05</td>\n",
       "      <td>3.980000e+04</td>\n",
       "      <td>0.000000</td>\n",
       "    </tr>\n",
       "    <tr>\n",
       "      <th>max</th>\n",
       "      <td>7.354484e+07</td>\n",
       "      <td>35000.000000</td>\n",
       "      <td>35000.000000</td>\n",
       "      <td>35000.000000</td>\n",
       "      <td>28.990000</td>\n",
       "      <td>9.500000e+06</td>\n",
       "      <td>672.520000</td>\n",
       "      <td>30.000000</td>\n",
       "      <td>31.000000</td>\n",
       "      <td>180.000000</td>\n",
       "      <td>...</td>\n",
       "      <td>358.680000</td>\n",
       "      <td>33520.270000</td>\n",
       "      <td>7002.190000</td>\n",
       "      <td>16.000000</td>\n",
       "      <td>180.000000</td>\n",
       "      <td>14.000000</td>\n",
       "      <td>496651.000000</td>\n",
       "      <td>8.000078e+06</td>\n",
       "      <td>9.999999e+06</td>\n",
       "      <td>1.000000</td>\n",
       "    </tr>\n",
       "  </tbody>\n",
       "</table>\n",
       "<p>8 rows × 27 columns</p>\n",
       "</div>"
      ],
      "text/plain": [
       "          member_id      loan_amnt    funded_amnt  funded_amnt_inv  \\\n",
       "count  5.324280e+05  532428.000000  532428.000000    532428.000000   \n",
       "mean   3.500547e+07   14757.595722   14744.271291     14704.926696   \n",
       "std    2.412148e+07    8434.420080    8429.139277      8441.290381   \n",
       "min    7.047300e+04     500.000000     500.000000         0.000000   \n",
       "25%    1.086688e+07    8000.000000    8000.000000      8000.000000   \n",
       "50%    3.709590e+07   13000.000000   13000.000000     13000.000000   \n",
       "75%    5.848920e+07   20000.000000   20000.000000     20000.000000   \n",
       "max    7.354484e+07   35000.000000   35000.000000     35000.000000   \n",
       "\n",
       "            int_rate    annual_inc            dti    delinq_2yrs  \\\n",
       "count  532428.000000  5.324250e+05  532428.000000  532412.000000   \n",
       "mean       13.242969  7.502984e+04      18.138767       0.314448   \n",
       "std         4.379611  6.519985e+04       8.369074       0.860045   \n",
       "min         5.320000  1.200000e+03       0.000000       0.000000   \n",
       "25%         9.990000  4.500000e+04      11.930000       0.000000   \n",
       "50%        12.990000  6.500000e+04      17.650000       0.000000   \n",
       "75%        16.200000  9.000000e+04      23.950000       0.000000   \n",
       "max        28.990000  9.500000e+06     672.520000      30.000000   \n",
       "\n",
       "       inq_last_6mths  mths_since_last_delinq      ...        \\\n",
       "count   532412.000000           259874.000000      ...         \n",
       "mean         0.694603               34.055735      ...         \n",
       "std          0.997025               21.884797      ...         \n",
       "min          0.000000                0.000000      ...         \n",
       "25%          0.000000               15.000000      ...         \n",
       "50%          0.000000               31.000000      ...         \n",
       "75%          1.000000               50.000000      ...         \n",
       "max         31.000000              180.000000      ...         \n",
       "\n",
       "       total_rec_late_fee     recoveries  collection_recovery_fee  \\\n",
       "count       532428.000000  532428.000000            532428.000000   \n",
       "mean             0.394954      45.717832                 4.859221   \n",
       "std              4.091546     409.647467                63.123361   \n",
       "min              0.000000       0.000000                 0.000000   \n",
       "25%              0.000000       0.000000                 0.000000   \n",
       "50%              0.000000       0.000000                 0.000000   \n",
       "75%              0.000000       0.000000                 0.000000   \n",
       "max            358.680000   33520.270000              7002.190000   \n",
       "\n",
       "       collections_12_mths_ex_med  mths_since_last_major_derog  \\\n",
       "count               532333.000000                132980.000000   \n",
       "mean                     0.014299                    44.121462   \n",
       "std                      0.133005                    22.198410   \n",
       "min                      0.000000                     0.000000   \n",
       "25%                      0.000000                    27.000000   \n",
       "50%                      0.000000                    44.000000   \n",
       "75%                      0.000000                    61.000000   \n",
       "max                     16.000000                   180.000000   \n",
       "\n",
       "       acc_now_delinq   tot_coll_amt   tot_cur_bal  total_rev_hi_lim  \\\n",
       "count   532412.000000  490424.000000  4.904240e+05      4.904240e+05   \n",
       "mean         0.005015     213.562222  1.395541e+05      3.208057e+04   \n",
       "std          0.079117    1958.571538  1.539149e+05      3.805304e+04   \n",
       "min          0.000000       0.000000  0.000000e+00      0.000000e+00   \n",
       "25%          0.000000       0.000000  2.983975e+04      1.400000e+04   \n",
       "50%          0.000000       0.000000  8.066950e+04      2.370000e+04   \n",
       "75%          0.000000       0.000000  2.084792e+05      3.980000e+04   \n",
       "max         14.000000  496651.000000  8.000078e+06      9.999999e+06   \n",
       "\n",
       "         loan_status  \n",
       "count  532428.000000  \n",
       "mean        0.236327  \n",
       "std         0.424826  \n",
       "min         0.000000  \n",
       "25%         0.000000  \n",
       "50%         0.000000  \n",
       "75%         0.000000  \n",
       "max         1.000000  \n",
       "\n",
       "[8 rows x 27 columns]"
      ]
     },
     "execution_count": 31,
     "metadata": {},
     "output_type": "execute_result"
    }
   ],
   "source": [
    "df.describe()"
   ]
  },
  {
   "cell_type": "code",
   "execution_count": 32,
   "metadata": {
    "collapsed": true
   },
   "outputs": [],
   "source": [
    "#Define a generic function using Pandas replace function\n",
    "def coding(col, codeDict):\n",
    "  colCoded = pd.Series(col, copy=True)\n",
    "  for key, value in codeDict.items():\n",
    "    colCoded.replace(key, value, inplace=True)\n",
    "  return colCoded"
   ]
  },
  {
   "cell_type": "code",
   "execution_count": 33,
   "metadata": {
    "collapsed": false
   },
   "outputs": [
    {
     "name": "stdout",
     "output_type": "stream",
     "text": [
      "Before Coding:\n",
      "B    152713\n",
      "C    147499\n",
      "A     89107\n",
      "D     83567\n",
      "E     42495\n",
      "F     13826\n",
      "G      3221\n",
      "Name: grade, dtype: int64\n",
      "\n",
      "After Coding:\n",
      "1    152713\n",
      "2    147499\n",
      "0     89107\n",
      "3     83567\n",
      "4     42495\n",
      "5     13826\n",
      "6      3221\n",
      "Name: grade_Coded, dtype: int64\n"
     ]
    }
   ],
   "source": [
    "#Coding grade as Y=1, N=0:\n",
    "print 'Before Coding:'\n",
    "print pd.value_counts(df[\"grade\"])\n",
    "df[\"grade_Coded\"] = coding(df[\"grade\"], {'A':0,'B':1,'C':2,'D':3,'E':4,'F':5,'G':6})\n",
    "print '\\nAfter Coding:'\n",
    "print pd.value_counts(df[\"grade_Coded\"])"
   ]
  },
  {
   "cell_type": "code",
   "execution_count": 34,
   "metadata": {
    "collapsed": false
   },
   "outputs": [
    {
     "name": "stdout",
     "output_type": "stream",
     "text": [
      "Before Coding:\n",
      "Source Verified    197750\n",
      "Verified           174702\n",
      "Not Verified       159976\n",
      "Name: verification_status, dtype: int64\n",
      "\n",
      "After Coding:\n",
      "1    372452\n",
      "0    159976\n",
      "Name: verification_status_Coded, dtype: int64\n"
     ]
    }
   ],
   "source": [
    "#Coding verification_status as Y=1, N=0:\n",
    "print 'Before Coding:'\n",
    "print pd.value_counts(df[\"verification_status\"])\n",
    "df[\"verification_status_Coded\"] = coding(df[\"verification_status\"], {'Source Verified':1,'Verified':1,'Not Verified':0})\n",
    "print '\\nAfter Coding:'\n",
    "print pd.value_counts(df[\"verification_status_Coded\"])"
   ]
  },
  {
   "cell_type": "code",
   "execution_count": 48,
   "metadata": {
    "collapsed": false
   },
   "outputs": [
    {
     "name": "stdout",
     "output_type": "stream",
     "text": [
      "[ 1644.29    758.707]\n",
      "1064856\n"
     ]
    }
   ],
   "source": [
    "from sklearn.feature_selection import SelectKBest\n",
    "from sklearn.feature_selection import chi2\n",
    "# load data\n",
    "#url = \"https://archive.ics.uci.edu/ml/machine-learning-databases/pima-indians-diabetes/pima-indians-diabetes.data\"\n",
    "#names = ['preg', 'plas', 'pres', 'skin', 'test', 'mass', 'pedi', 'age', 'class']\n",
    "#dataframe = pandas.read_csv(url, names=names)\n",
    "#array = df.values\n",
    "X = df[['grade_Coded','verification_status_Coded']]\n",
    "Y = df['loan_status']\n",
    "# feature extraction\n",
    "test = SelectKBest(score_func=chi2, k='all')\n",
    "fit = test.fit(X, Y)\n",
    "# summarize scores\n",
    "np.set_printoptions(precision=3)\n",
    "print(fit.scores_)\n",
    "features = fit.transform(X)\n",
    "# summarize selected features\n",
    "print(features.size)"
   ]
  },
  {
   "cell_type": "code",
   "execution_count": 36,
   "metadata": {
    "collapsed": false,
    "scrolled": true
   },
   "outputs": [
    {
     "data": {
      "text/plain": [
       "0         36\n",
       "1         36\n",
       "2         36\n",
       "3         36\n",
       "4         36\n",
       "5         36\n",
       "6         36\n",
       "7         36\n",
       "8         36\n",
       "9         60\n",
       "10        36\n",
       "11        36\n",
       "12        36\n",
       "13        36\n",
       "14        36\n",
       "15        36\n",
       "16        60\n",
       "17        36\n",
       "18        36\n",
       "19        36\n",
       "20        60\n",
       "21        36\n",
       "22        36\n",
       "23        36\n",
       "24        36\n",
       "25        60\n",
       "26        36\n",
       "27        36\n",
       "28        36\n",
       "29        36\n",
       "          ..\n",
       "532398    36\n",
       "532399    36\n",
       "532400    36\n",
       "532401    36\n",
       "532402    36\n",
       "532403    60\n",
       "532404    36\n",
       "532405    60\n",
       "532406    36\n",
       "532407    36\n",
       "532408    36\n",
       "532409    36\n",
       "532410    36\n",
       "532411    36\n",
       "532412    36\n",
       "532413    60\n",
       "532414    36\n",
       "532415    36\n",
       "532416    36\n",
       "532417    36\n",
       "532418    36\n",
       "532419    36\n",
       "532420    36\n",
       "532421    60\n",
       "532422    36\n",
       "532423    36\n",
       "532424    60\n",
       "532425    60\n",
       "532426    60\n",
       "532427    36\n",
       "Name: term, dtype: int64"
      ]
     },
     "execution_count": 36,
     "metadata": {},
     "output_type": "execute_result"
    }
   ],
   "source": [
    "df['term'] = df['term'].apply(lambda x: int(str(x)[:-7]))\n",
    "df['term']"
   ]
  },
  {
   "cell_type": "code",
   "execution_count": 49,
   "metadata": {
    "collapsed": false
   },
   "outputs": [
    {
     "name": "stdout",
     "output_type": "stream",
     "text": [
      "Before Coding:\n",
      "MORTGAGE    265940\n",
      "RENT        213668\n",
      "OWN          52664\n",
      "OTHER          117\n",
      "NONE            36\n",
      "ANY              3\n",
      "Name: home_ownership, dtype: int64\n",
      "\n",
      "After Coding:\n",
      "0    265940\n",
      "2    213668\n",
      "1     52664\n",
      "3       117\n",
      "4        36\n",
      "5         3\n",
      "Name: home_ownership_Coded, dtype: int64\n"
     ]
    }
   ],
   "source": [
    "#Coding home_ownership as Y=1, N=0:\n",
    "print 'Before Coding:'\n",
    "print pd.value_counts(df[\"home_ownership\"])\n",
    "df[\"home_ownership_Coded\"] = coding(df[\"home_ownership\"], {'MORTGAGE':0,'OWN':1,'RENT':2, 'OTHER':3, 'NONE':4, 'ANY':5})\n",
    "print '\\nAfter Coding:'\n",
    "print pd.value_counts(df[\"home_ownership_Coded\"])"
   ]
  },
  {
   "cell_type": "code",
   "execution_count": 44,
   "metadata": {
    "collapsed": false
   },
   "outputs": [
    {
     "name": "stdout",
     "output_type": "stream",
     "text": [
      "Before Coding:\n",
      "debt_consolidation    314989\n",
      "credit_card           123670\n",
      "home_improvement       31087\n",
      "other                  25652\n",
      "major_purchase         10284\n",
      "small_business          6146\n",
      "car                     5266\n",
      "medical                 5117\n",
      "moving                  3243\n",
      "vacation                2812\n",
      "house                   2170\n",
      "wedding                 1401\n",
      "renewable_energy         331\n",
      "educational              260\n",
      "Name: purpose, dtype: int64\n",
      "\n",
      "After Coding:\n",
      "0     314989\n",
      "1     123670\n",
      "2      31087\n",
      "3      25652\n",
      "4      10284\n",
      "5       6146\n",
      "6       5266\n",
      "7       5117\n",
      "8       3243\n",
      "9       2812\n",
      "10      2170\n",
      "11      1401\n",
      "12       331\n",
      "13       260\n",
      "Name: purpose_Coded, dtype: int64\n"
     ]
    }
   ],
   "source": [
    "#Coding purpose as Y=1, N=0:\n",
    "print 'Before Coding:'\n",
    "print pd.value_counts(df[\"purpose\"])\n",
    "df[\"purpose_Coded\"] = coding(df[\"purpose\"], {'debt_consolidation':0,'credit_card':1,'home_improvement':2,\n",
    "                                             'other':3,'major_purchase':4,'small_business':5,'car':6,\n",
    "                                             'medical':7,'moving':8,'vacation':9,'house':10,'wedding':11,\n",
    "                                             'renewable_energy':12,'educational':13})\n",
    "print '\\nAfter Coding:'\n",
    "print pd.value_counts(df[\"purpose_Coded\"])"
   ]
  },
  {
   "cell_type": "code",
   "execution_count": 45,
   "metadata": {
    "collapsed": false
   },
   "outputs": [
    {
     "name": "stdout",
     "output_type": "stream",
     "text": [
      "Before Coding:\n",
      "INDIVIDUAL    532123\n",
      "JOINT            305\n",
      "Name: application_type, dtype: int64\n",
      "\n",
      "After Coding:\n",
      "0    532123\n",
      "1       305\n",
      "Name: application_type_Coded, dtype: int64\n"
     ]
    }
   ],
   "source": [
    "#Coding application_type as Y=1, N=0:\n",
    "print 'Before Coding:'\n",
    "print pd.value_counts(df[\"application_type\"])\n",
    "df[\"application_type_Coded\"] = coding(df[\"application_type\"], {'INDIVIDUAL':0,'JOINT':1})\n",
    "print '\\nAfter Coding:'\n",
    "print pd.value_counts(df[\"application_type_Coded\"])"
   ]
  },
  {
   "cell_type": "code",
   "execution_count": 53,
   "metadata": {
    "collapsed": false
   },
   "outputs": [
    {
     "name": "stdout",
     "output_type": "stream",
     "text": [
      "[  1.644e+03   7.587e+02   1.849e-01   8.469e+03   9.178e+01   2.556e+04]\n"
     ]
    }
   ],
   "source": [
    "X = df[['grade_Coded','verification_status_Coded','home_ownership_Coded','purpose_Coded','application_type_Coded','term']]\n",
    "Y = df['loan_status']\n",
    "# feature extraction\n",
    "test = SelectKBest(score_func=chi2, k='all')\n",
    "fit = test.fit(X, Y)\n",
    "# summarize scores\n",
    "np.set_printoptions(precision=3)\n",
    "print(fit.scores_)\n",
    "features = fit.transform(X)\n",
    "# summarize selected features\n",
    "#print(features.size)"
   ]
  },
  {
   "cell_type": "code",
   "execution_count": null,
   "metadata": {
    "collapsed": false
   },
   "outputs": [],
   "source": []
  },
  {
   "cell_type": "code",
   "execution_count": null,
   "metadata": {
    "collapsed": true
   },
   "outputs": [],
   "source": []
  }
 ],
 "metadata": {
  "kernelspec": {
   "display_name": "Python 2",
   "language": "python",
   "name": "python2"
  },
  "language_info": {
   "codemirror_mode": {
    "name": "ipython",
    "version": 2
   },
   "file_extension": ".py",
   "mimetype": "text/x-python",
   "name": "python",
   "nbconvert_exporter": "python",
   "pygments_lexer": "ipython2",
   "version": "2.7.11"
  }
 },
 "nbformat": 4,
 "nbformat_minor": 0
}
